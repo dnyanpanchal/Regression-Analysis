{
 "cells": [
  {
   "cell_type": "markdown",
   "id": "2d89db37-a0e6-48cb-9690-9796cd912fad",
   "metadata": {},
   "source": [
    " ` In this dataset we going to apply all basic EDA & the regression analysis like simple regression , Multiple regression by using some important libraries and visualization tools: ` \n",
    " Usefull  libraries:\n",
    " \n",
    "- pandas-        it will be use for the data cleaning \n",
    "- numpy-         it will be use for the some mathematical solutions.\n",
    "- matplotlib-    it will be use for the data visualization.\n",
    "- seaborn -      it will be use for the data visualization and graph ploting"
   ]
  },
  {
   "cell_type": "code",
   "execution_count": 23,
   "id": "0df69c7a-dcfd-4aa8-aa16-2909013c3fe0",
   "metadata": {},
   "outputs": [],
   "source": [
    "import pandas as pd \n",
    "import numpy as np\n",
    "import matplotlib.pyplot as plt\n",
    "import seaborn as sns\n",
    "import sklearn \n",
    "%matplotlib inline"
   ]
  },
  {
   "cell_type": "code",
   "execution_count": 24,
   "id": "162f7bdd-f94d-4a32-8d0c-392e3311bb03",
   "metadata": {},
   "outputs": [],
   "source": [
    "## Reading file\n",
    "df= pd.read_csv('50_Startups.csv')"
   ]
  },
  {
   "cell_type": "code",
   "execution_count": 25,
   "id": "c3f73061-4340-45e0-aaca-eb17ee520308",
   "metadata": {},
   "outputs": [
    {
     "data": {
      "text/html": [
       "<div>\n",
       "<style scoped>\n",
       "    .dataframe tbody tr th:only-of-type {\n",
       "        vertical-align: middle;\n",
       "    }\n",
       "\n",
       "    .dataframe tbody tr th {\n",
       "        vertical-align: top;\n",
       "    }\n",
       "\n",
       "    .dataframe thead th {\n",
       "        text-align: right;\n",
       "    }\n",
       "</style>\n",
       "<table border=\"1\" class=\"dataframe\">\n",
       "  <thead>\n",
       "    <tr style=\"text-align: right;\">\n",
       "      <th></th>\n",
       "      <th>R&amp;D Spend</th>\n",
       "      <th>Administration</th>\n",
       "      <th>Marketing Spend</th>\n",
       "      <th>State</th>\n",
       "      <th>Profit</th>\n",
       "    </tr>\n",
       "  </thead>\n",
       "  <tbody>\n",
       "    <tr>\n",
       "      <th>0</th>\n",
       "      <td>165349.20</td>\n",
       "      <td>136897.80</td>\n",
       "      <td>471784.10</td>\n",
       "      <td>New York</td>\n",
       "      <td>192261.83</td>\n",
       "    </tr>\n",
       "    <tr>\n",
       "      <th>1</th>\n",
       "      <td>162597.70</td>\n",
       "      <td>151377.59</td>\n",
       "      <td>443898.53</td>\n",
       "      <td>California</td>\n",
       "      <td>191792.06</td>\n",
       "    </tr>\n",
       "    <tr>\n",
       "      <th>2</th>\n",
       "      <td>153441.51</td>\n",
       "      <td>101145.55</td>\n",
       "      <td>407934.54</td>\n",
       "      <td>Florida</td>\n",
       "      <td>191050.39</td>\n",
       "    </tr>\n",
       "    <tr>\n",
       "      <th>3</th>\n",
       "      <td>144372.41</td>\n",
       "      <td>118671.85</td>\n",
       "      <td>383199.62</td>\n",
       "      <td>New York</td>\n",
       "      <td>182901.99</td>\n",
       "    </tr>\n",
       "    <tr>\n",
       "      <th>4</th>\n",
       "      <td>142107.34</td>\n",
       "      <td>91391.77</td>\n",
       "      <td>366168.42</td>\n",
       "      <td>Florida</td>\n",
       "      <td>166187.94</td>\n",
       "    </tr>\n",
       "  </tbody>\n",
       "</table>\n",
       "</div>"
      ],
      "text/plain": [
       "   R&D Spend  Administration  Marketing Spend       State     Profit\n",
       "0  165349.20       136897.80        471784.10    New York  192261.83\n",
       "1  162597.70       151377.59        443898.53  California  191792.06\n",
       "2  153441.51       101145.55        407934.54     Florida  191050.39\n",
       "3  144372.41       118671.85        383199.62    New York  182901.99\n",
       "4  142107.34        91391.77        366168.42     Florida  166187.94"
      ]
     },
     "execution_count": 25,
     "metadata": {},
     "output_type": "execute_result"
    }
   ],
   "source": [
    "# printing first 5 values from given dataset:\n",
    "df.head()"
   ]
  },
  {
   "cell_type": "markdown",
   "id": "9da2977e-62de-4bb1-8381-cbe6e10387fa",
   "metadata": {},
   "source": [
    "` About Data : `\n",
    "            - The  above data shows that the data is about the information or structure of costing of R&D spend      administration marketing spend state and their profit."
   ]
  },
  {
   "cell_type": "code",
   "execution_count": 26,
   "id": "07cd1c20-00c2-4fe9-b8ca-16f798f12e04",
   "metadata": {},
   "outputs": [
    {
     "data": {
      "text/html": [
       "<div>\n",
       "<style scoped>\n",
       "    .dataframe tbody tr th:only-of-type {\n",
       "        vertical-align: middle;\n",
       "    }\n",
       "\n",
       "    .dataframe tbody tr th {\n",
       "        vertical-align: top;\n",
       "    }\n",
       "\n",
       "    .dataframe thead th {\n",
       "        text-align: right;\n",
       "    }\n",
       "</style>\n",
       "<table border=\"1\" class=\"dataframe\">\n",
       "  <thead>\n",
       "    <tr style=\"text-align: right;\">\n",
       "      <th></th>\n",
       "      <th>R&amp;D Spend</th>\n",
       "      <th>Administration</th>\n",
       "      <th>Marketing Spend</th>\n",
       "      <th>State</th>\n",
       "      <th>Profit</th>\n",
       "    </tr>\n",
       "  </thead>\n",
       "  <tbody>\n",
       "    <tr>\n",
       "      <th>45</th>\n",
       "      <td>1000.23</td>\n",
       "      <td>124153.04</td>\n",
       "      <td>1903.93</td>\n",
       "      <td>New York</td>\n",
       "      <td>64926.08</td>\n",
       "    </tr>\n",
       "    <tr>\n",
       "      <th>46</th>\n",
       "      <td>1315.46</td>\n",
       "      <td>115816.21</td>\n",
       "      <td>297114.46</td>\n",
       "      <td>Florida</td>\n",
       "      <td>49490.75</td>\n",
       "    </tr>\n",
       "    <tr>\n",
       "      <th>47</th>\n",
       "      <td>0.00</td>\n",
       "      <td>135426.92</td>\n",
       "      <td>0.00</td>\n",
       "      <td>California</td>\n",
       "      <td>42559.73</td>\n",
       "    </tr>\n",
       "    <tr>\n",
       "      <th>48</th>\n",
       "      <td>542.05</td>\n",
       "      <td>51743.15</td>\n",
       "      <td>0.00</td>\n",
       "      <td>New York</td>\n",
       "      <td>35673.41</td>\n",
       "    </tr>\n",
       "    <tr>\n",
       "      <th>49</th>\n",
       "      <td>0.00</td>\n",
       "      <td>116983.80</td>\n",
       "      <td>45173.06</td>\n",
       "      <td>California</td>\n",
       "      <td>14681.40</td>\n",
       "    </tr>\n",
       "  </tbody>\n",
       "</table>\n",
       "</div>"
      ],
      "text/plain": [
       "    R&D Spend  Administration  Marketing Spend       State    Profit\n",
       "45    1000.23       124153.04          1903.93    New York  64926.08\n",
       "46    1315.46       115816.21        297114.46     Florida  49490.75\n",
       "47       0.00       135426.92             0.00  California  42559.73\n",
       "48     542.05        51743.15             0.00    New York  35673.41\n",
       "49       0.00       116983.80         45173.06  California  14681.40"
      ]
     },
     "execution_count": 26,
     "metadata": {},
     "output_type": "execute_result"
    }
   ],
   "source": [
    "# printing last 5 values from given dataset:\n",
    "df.tail()"
   ]
  },
  {
   "cell_type": "code",
   "execution_count": 27,
   "id": "1bcd4062-5eed-434a-abca-ff4ae698412c",
   "metadata": {},
   "outputs": [
    {
     "name": "stdout",
     "output_type": "stream",
     "text": [
      "<class 'pandas.core.frame.DataFrame'>\n",
      "RangeIndex: 50 entries, 0 to 49\n",
      "Data columns (total 5 columns):\n",
      " #   Column           Non-Null Count  Dtype  \n",
      "---  ------           --------------  -----  \n",
      " 0   R&D Spend        50 non-null     float64\n",
      " 1   Administration   50 non-null     float64\n",
      " 2   Marketing Spend  50 non-null     float64\n",
      " 3   State            50 non-null     object \n",
      " 4   Profit           50 non-null     float64\n",
      "dtypes: float64(4), object(1)\n",
      "memory usage: 2.1+ KB\n"
     ]
    }
   ],
   "source": [
    "#printing detailed information of given dataset:\n",
    "df.info()"
   ]
  },
  {
   "cell_type": "code",
   "execution_count": 28,
   "id": "c062f2df-a1d3-408e-8630-9ba0aaf1b88f",
   "metadata": {},
   "outputs": [
    {
     "data": {
      "text/plain": [
       "48"
      ]
     },
     "execution_count": 28,
     "metadata": {},
     "output_type": "execute_result"
    }
   ],
   "source": [
    "## checking unique values \n",
    "df['Marketing Spend'].nunique()"
   ]
  },
  {
   "cell_type": "markdown",
   "id": "a97c62a3-89be-4c9b-a483-c2f9a32e74b5",
   "metadata": {},
   "source": [
    "- In ` marketing spend ` their is 48 unique values are present."
   ]
  },
  {
   "cell_type": "code",
   "execution_count": 29,
   "id": "a739bc95-fe98-496a-8aac-4f48566f6b4c",
   "metadata": {},
   "outputs": [
    {
     "data": {
      "text/html": [
       "<div>\n",
       "<style scoped>\n",
       "    .dataframe tbody tr th:only-of-type {\n",
       "        vertical-align: middle;\n",
       "    }\n",
       "\n",
       "    .dataframe tbody tr th {\n",
       "        vertical-align: top;\n",
       "    }\n",
       "\n",
       "    .dataframe thead th {\n",
       "        text-align: right;\n",
       "    }\n",
       "</style>\n",
       "<table border=\"1\" class=\"dataframe\">\n",
       "  <thead>\n",
       "    <tr style=\"text-align: right;\">\n",
       "      <th></th>\n",
       "      <th>R&amp;D Spend</th>\n",
       "      <th>Administration</th>\n",
       "      <th>Marketing Spend</th>\n",
       "      <th>Profit</th>\n",
       "    </tr>\n",
       "  </thead>\n",
       "  <tbody>\n",
       "    <tr>\n",
       "      <th>count</th>\n",
       "      <td>50.000000</td>\n",
       "      <td>50.000000</td>\n",
       "      <td>50.000000</td>\n",
       "      <td>50.000000</td>\n",
       "    </tr>\n",
       "    <tr>\n",
       "      <th>mean</th>\n",
       "      <td>73721.615600</td>\n",
       "      <td>121344.639600</td>\n",
       "      <td>211025.097800</td>\n",
       "      <td>112012.639200</td>\n",
       "    </tr>\n",
       "    <tr>\n",
       "      <th>std</th>\n",
       "      <td>45902.256482</td>\n",
       "      <td>28017.802755</td>\n",
       "      <td>122290.310726</td>\n",
       "      <td>40306.180338</td>\n",
       "    </tr>\n",
       "    <tr>\n",
       "      <th>min</th>\n",
       "      <td>0.000000</td>\n",
       "      <td>51283.140000</td>\n",
       "      <td>0.000000</td>\n",
       "      <td>14681.400000</td>\n",
       "    </tr>\n",
       "    <tr>\n",
       "      <th>25%</th>\n",
       "      <td>39936.370000</td>\n",
       "      <td>103730.875000</td>\n",
       "      <td>129300.132500</td>\n",
       "      <td>90138.902500</td>\n",
       "    </tr>\n",
       "    <tr>\n",
       "      <th>50%</th>\n",
       "      <td>73051.080000</td>\n",
       "      <td>122699.795000</td>\n",
       "      <td>212716.240000</td>\n",
       "      <td>107978.190000</td>\n",
       "    </tr>\n",
       "    <tr>\n",
       "      <th>75%</th>\n",
       "      <td>101602.800000</td>\n",
       "      <td>144842.180000</td>\n",
       "      <td>299469.085000</td>\n",
       "      <td>139765.977500</td>\n",
       "    </tr>\n",
       "    <tr>\n",
       "      <th>max</th>\n",
       "      <td>165349.200000</td>\n",
       "      <td>182645.560000</td>\n",
       "      <td>471784.100000</td>\n",
       "      <td>192261.830000</td>\n",
       "    </tr>\n",
       "  </tbody>\n",
       "</table>\n",
       "</div>"
      ],
      "text/plain": [
       "           R&D Spend  Administration  Marketing Spend         Profit\n",
       "count      50.000000       50.000000        50.000000      50.000000\n",
       "mean    73721.615600   121344.639600    211025.097800  112012.639200\n",
       "std     45902.256482    28017.802755    122290.310726   40306.180338\n",
       "min         0.000000    51283.140000         0.000000   14681.400000\n",
       "25%     39936.370000   103730.875000    129300.132500   90138.902500\n",
       "50%     73051.080000   122699.795000    212716.240000  107978.190000\n",
       "75%    101602.800000   144842.180000    299469.085000  139765.977500\n",
       "max    165349.200000   182645.560000    471784.100000  192261.830000"
      ]
     },
     "execution_count": 29,
     "metadata": {},
     "output_type": "execute_result"
    }
   ],
   "source": [
    "## checking detailed discreption of the dataset:\n",
    "df.describe()"
   ]
  },
  {
   "cell_type": "code",
   "execution_count": 30,
   "id": "2cec32b0-7712-4891-b8d9-73cd73d47ed5",
   "metadata": {},
   "outputs": [
    {
     "data": {
      "text/plain": [
       "R&D Spend          0\n",
       "Administration     0\n",
       "Marketing Spend    0\n",
       "State              0\n",
       "Profit             0\n",
       "dtype: int64"
      ]
     },
     "execution_count": 30,
     "metadata": {},
     "output_type": "execute_result"
    }
   ],
   "source": [
    "## checking for null values:                      ## <h2 style=\"color:blue\">\n",
    "df.isnull().sum()"
   ]
  },
  {
   "cell_type": "markdown",
   "id": "7670c479-2ef1-4197-8503-e91855e12ae2",
   "metadata": {},
   "source": [
    "<h2 style=\"color:blue\"> Note: </h2>"
   ]
  },
  {
   "cell_type": "markdown",
   "id": "40b87ff6-deef-4ef3-8082-36c75058890a",
   "metadata": {},
   "source": [
    "- in a above case there is no missing val \n",
    "- if there is any missing values in the case then we xcan handle it like\n",
    "- by using s.isnull() we can see the there is any missing values are present or not\n",
    "- then we can use s.isnul().sum() to count the how many missing val are there.\n",
    "- then we can find their missing values by col or by features name\n",
    "- then by using s.filna() methodwe can fill he missing values by backword and forword(s.fillna(method=\"ffill\"))\n",
    "- then we can fill tha all values by zero or we can use catagorical values\n",
    "- or we can drop the missing values col by using s.dropna method"
   ]
  },
  {
   "cell_type": "code",
   "execution_count": 31,
   "id": "86336e3e-5de1-479a-9062-8fe65e07d458",
   "metadata": {},
   "outputs": [
    {
     "data": {
      "text/html": [
       "<div>\n",
       "<style scoped>\n",
       "    .dataframe tbody tr th:only-of-type {\n",
       "        vertical-align: middle;\n",
       "    }\n",
       "\n",
       "    .dataframe tbody tr th {\n",
       "        vertical-align: top;\n",
       "    }\n",
       "\n",
       "    .dataframe thead th {\n",
       "        text-align: right;\n",
       "    }\n",
       "</style>\n",
       "<table border=\"1\" class=\"dataframe\">\n",
       "  <thead>\n",
       "    <tr style=\"text-align: right;\">\n",
       "      <th></th>\n",
       "      <th>R&amp;D Spend</th>\n",
       "      <th>Administration</th>\n",
       "      <th>Marketing Spend</th>\n",
       "      <th>Profit</th>\n",
       "    </tr>\n",
       "  </thead>\n",
       "  <tbody>\n",
       "    <tr>\n",
       "      <th>R&amp;D Spend</th>\n",
       "      <td>1.000000</td>\n",
       "      <td>0.241955</td>\n",
       "      <td>0.724248</td>\n",
       "      <td>0.972900</td>\n",
       "    </tr>\n",
       "    <tr>\n",
       "      <th>Administration</th>\n",
       "      <td>0.241955</td>\n",
       "      <td>1.000000</td>\n",
       "      <td>-0.032154</td>\n",
       "      <td>0.200717</td>\n",
       "    </tr>\n",
       "    <tr>\n",
       "      <th>Marketing Spend</th>\n",
       "      <td>0.724248</td>\n",
       "      <td>-0.032154</td>\n",
       "      <td>1.000000</td>\n",
       "      <td>0.747766</td>\n",
       "    </tr>\n",
       "    <tr>\n",
       "      <th>Profit</th>\n",
       "      <td>0.972900</td>\n",
       "      <td>0.200717</td>\n",
       "      <td>0.747766</td>\n",
       "      <td>1.000000</td>\n",
       "    </tr>\n",
       "  </tbody>\n",
       "</table>\n",
       "</div>"
      ],
      "text/plain": [
       "                 R&D Spend  Administration  Marketing Spend    Profit\n",
       "R&D Spend         1.000000        0.241955         0.724248  0.972900\n",
       "Administration    0.241955        1.000000        -0.032154  0.200717\n",
       "Marketing Spend   0.724248       -0.032154         1.000000  0.747766\n",
       "Profit            0.972900        0.200717         0.747766  1.000000"
      ]
     },
     "execution_count": 31,
     "metadata": {},
     "output_type": "execute_result"
    }
   ],
   "source": [
    "## printing corrilation :\n",
    "df.corr()"
   ]
  },
  {
   "cell_type": "markdown",
   "id": "a051e4d0-aec0-4896-a2ff-de98bb6288b4",
   "metadata": {},
   "source": [
    "` EDA: `"
   ]
  },
  {
   "cell_type": "code",
   "execution_count": 32,
   "id": "7aa5ac54-7c2c-4ad8-8b4d-bf93063f4f2c",
   "metadata": {},
   "outputs": [
    {
     "data": {
      "image/png": "[encoded data removed]",
      "text/plain": [
       "<Figure size 864x576 with 2 Axes>"
      ]
     },
     "metadata": {
      "needs_background": "light"
     },
     "output_type": "display_data"
    }
   ],
   "source": [
    "## printing heatmap:\n",
    "plt.figure(figsize=(12,8))\n",
    "sns.heatmap(df.corr(),annot=True,fmt='.2f')\n",
    "plt.show()"
   ]
  },
  {
   "cell_type": "markdown",
   "id": "07e0dfbc-c8a0-474e-84bb-034501ea3b94",
   "metadata": {},
   "source": [
    "- From ` Heatmap ` we can see the max correlation between independant variable and dependant variable.\n",
    "- From above heatmap we can see the ` R&D spend ` and  ` profit ` are highly correted that is 0.97."
   ]
  },
  {
   "cell_type": "markdown",
   "id": "ccd510e7-7de1-4e0b-8fc5-b48becad2c79",
   "metadata": {},
   "source": [
    "` Barplot: `"
   ]
  },
  {
   "cell_type": "code",
   "execution_count": 33,
   "id": "84eea83e-b8ea-4c3f-aa4e-0ce02e8511b9",
   "metadata": {},
   "outputs": [
    {
     "data": {
      "text/plain": [
       "<AxesSubplot:xlabel='R&D Spend', ylabel='Profit'>"
      ]
     },
     "execution_count": 33,
     "metadata": {},
     "output_type": "execute_result"
    },
    {
     "data": {
      "image/png": "[encoded data removed]",
      "text/plain": [
       "<Figure size 432x288 with 1 Axes>"
      ]
     },
     "metadata": {
      "needs_background": "light"
     },
     "output_type": "display_data"
    }
   ],
   "source": [
    "sns.barplot(x='R&D Spend',y='Profit',data=df, palette=\"Blues_d\")"
   ]
  },
  {
   "cell_type": "markdown",
   "id": "101bc792-217b-453d-92a5-95f499e4852c",
   "metadata": {},
   "source": [
    "` NOTE: `\n",
    "     - Here we plotted the barplot bet R&D spend and profit."
   ]
  },
  {
   "cell_type": "markdown",
   "id": "fff6c322-d62c-4c74-99e9-67b20abb66b8",
   "metadata": {},
   "source": [
    "` pairplot: `"
   ]
  },
  {
   "cell_type": "code",
   "execution_count": 34,
   "id": "7b7a0cfb-06cd-43a8-b43d-c8fae74c98e1",
   "metadata": {},
   "outputs": [
    {
     "data": {
      "text/plain": [
       "<seaborn.axisgrid.PairGrid at 0x1e435576e50>"
      ]
     },
     "execution_count": 34,
     "metadata": {},
     "output_type": "execute_result"
    },
    {
     "data": {
      "image/png": "[encoded data removed]",
      "text/plain": [
       "<Figure size 720x720 with 20 Axes>"
      ]
     },
     "metadata": {
      "needs_background": "light"
     },
     "output_type": "display_data"
    }
   ],
   "source": [
    "sns.pairplot(df)"
   ]
  },
  {
   "cell_type": "markdown",
   "id": "2f2b6db6-4326-48a1-a87d-97a99eb41cef",
   "metadata": {},
   "source": [
    "- by the reading of pairplot we can see the positive corr between 'R&D Spend' and 'profit'."
   ]
  },
  {
   "cell_type": "code",
   "execution_count": 35,
   "id": "eee3f6b8-b2d6-4211-a812-e8d954364248",
   "metadata": {},
   "outputs": [
    {
     "data": {
      "text/plain": [
       "<AxesSubplot:xlabel='R&D Spend'>"
      ]
     },
     "execution_count": 35,
     "metadata": {},
     "output_type": "execute_result"
    },
    {
     "data": {
      "image/png": "[encoded data removed]",
      "text/plain": [
       "<Figure size 432x288 with 1 Axes>"
      ]
     },
     "metadata": {
      "needs_background": "light"
     },
     "output_type": "display_data"
    }
   ],
   "source": [
    "## printing boxplot for R&D Spend :\n",
    "sns.boxplot(x='R&D Spend',data=df,orient=\"h\")"
   ]
  },
  {
   "cell_type": "code",
   "execution_count": 36,
   "id": "2c7270ba-d7bd-44a0-b79c-4023def8202f",
   "metadata": {},
   "outputs": [
    {
     "data": {
      "text/plain": [
       "<AxesSubplot:xlabel='Administration'>"
      ]
     },
     "execution_count": 36,
     "metadata": {},
     "output_type": "execute_result"
    },
    {
     "data": {
      "image/png": "[encoded data removed]",
      "text/plain": [
       "<Figure size 432x288 with 1 Axes>"
      ]
     },
     "metadata": {
      "needs_background": "light"
     },
     "output_type": "display_data"
    }
   ],
   "source": [
    "## printing boxplot for Administration :\n",
    "sns.boxplot(x='Administration',data=df,orient=\"h\")"
   ]
  },
  {
   "cell_type": "code",
   "execution_count": 37,
   "id": "6f158eb0-3eb9-4a8b-91a3-7afab7397eb7",
   "metadata": {},
   "outputs": [
    {
     "data": {
      "text/plain": [
       "<AxesSubplot:xlabel='Marketing Spend'>"
      ]
     },
     "execution_count": 37,
     "metadata": {},
     "output_type": "execute_result"
    },
    {
     "data": {
      "image/png": "[encoded data removed]",
      "text/plain": [
       "<Figure size 432x288 with 1 Axes>"
      ]
     },
     "metadata": {
      "needs_background": "light"
     },
     "output_type": "display_data"
    }
   ],
   "source": [
    "## printing boxplot for Marketing Spend :\n",
    "sns.boxplot(x='Marketing Spend',data=df,orient=\"h\")"
   ]
  },
  {
   "cell_type": "markdown",
   "id": "8226c28e-dfc3-40b2-b123-4ae816d9c32a",
   "metadata": {},
   "source": [
    "## checking for skewness:                       "
   ]
  },
  {
   "cell_type": "markdown",
   "id": "0c490d5a-9ac9-421b-9b04-36f3ec0aaf1b",
   "metadata": {},
   "source": [
    "- Skewness refers to a distortion or asymmetry that deviates from the symmetrical bell curve, or normal distribution, in a set of data.\n",
    "- If the curve is shifted to the left or to the right, it is said to be skewed."
   ]
  },
  {
   "cell_type": "code",
   "execution_count": 38,
   "id": "978ab8af-c12d-4e38-a329-fd05f9921de1",
   "metadata": {},
   "outputs": [],
   "source": [
    "df1=df[['R&D Spend', 'Administration', 'Marketing Spend', 'Profit']]"
   ]
  },
  {
   "cell_type": "code",
   "execution_count": 39,
   "id": "a66640f8-40c9-4565-9e8e-9f1ce9a17cf5",
   "metadata": {},
   "outputs": [
    {
     "name": "stdout",
     "output_type": "stream",
     "text": [
      "R&D Spend\n",
      "0.15904052321503395\n"
     ]
    },
    {
     "data": {
      "image/png": "[encoded data removed]",
      "text/plain": [
       "<Figure size 432x288 with 1 Axes>"
      ]
     },
     "metadata": {
      "needs_background": "light"
     },
     "output_type": "display_data"
    },
    {
     "name": "stdout",
     "output_type": "stream",
     "text": [
      "Administration\n",
      "-0.4742300698920047\n"
     ]
    },
    {
     "data": {
      "image/png": "[encoded data removed]",
      "text/plain": [
       "<Figure size 432x288 with 1 Axes>"
      ]
     },
     "metadata": {
      "needs_background": "light"
     },
     "output_type": "display_data"
    },
    {
     "name": "stdout",
     "output_type": "stream",
     "text": [
      "Marketing Spend\n",
      "-0.04506631617666136\n"
     ]
    },
    {
     "data": {
      "image/png": "[encoded data removed]",
      "text/plain": [
       "<Figure size 432x288 with 1 Axes>"
      ]
     },
     "metadata": {
      "needs_background": "light"
     },
     "output_type": "display_data"
    },
    {
     "name": "stdout",
     "output_type": "stream",
     "text": [
      "Profit\n",
      "0.02258638356958943\n"
     ]
    },
    {
     "data": {
      "image/png": "[encoded data removed]",
      "text/plain": [
       "<Figure size 432x288 with 1 Axes>"
      ]
     },
     "metadata": {
      "needs_background": "light"
     },
     "output_type": "display_data"
    }
   ],
   "source": [
    "## import scipy library:\n",
    "from scipy.stats import skew\n",
    "\n",
    "for i in df1:\n",
    "    print(i)\n",
    "    print(skew(df[i]))\n",
    "    \n",
    "    sns.histplot(df[i])\n",
    "    plt.show()"
   ]
  },
  {
   "cell_type": "code",
   "execution_count": 50,
   "id": "2f0be3ac-d6ce-4cce-abd4-53e53d6b66e7",
   "metadata": {},
   "outputs": [
    {
     "data": {
      "text/html": [
       "<div>\n",
       "<style scoped>\n",
       "    .dataframe tbody tr th:only-of-type {\n",
       "        vertical-align: middle;\n",
       "    }\n",
       "\n",
       "    .dataframe tbody tr th {\n",
       "        vertical-align: top;\n",
       "    }\n",
       "\n",
       "    .dataframe thead th {\n",
       "        text-align: right;\n",
       "    }\n",
       "</style>\n",
       "<table border=\"1\" class=\"dataframe\">\n",
       "  <thead>\n",
       "    <tr style=\"text-align: right;\">\n",
       "      <th></th>\n",
       "      <th>R&amp;D Spend</th>\n",
       "      <th>Administration</th>\n",
       "      <th>Marketing Spend</th>\n",
       "      <th>State</th>\n",
       "      <th>Profit</th>\n",
       "    </tr>\n",
       "  </thead>\n",
       "  <tbody>\n",
       "    <tr>\n",
       "      <th>0</th>\n",
       "      <td>165349.20</td>\n",
       "      <td>136897.80</td>\n",
       "      <td>471784.10</td>\n",
       "      <td>New York</td>\n",
       "      <td>192261.83</td>\n",
       "    </tr>\n",
       "    <tr>\n",
       "      <th>1</th>\n",
       "      <td>162597.70</td>\n",
       "      <td>151377.59</td>\n",
       "      <td>443898.53</td>\n",
       "      <td>California</td>\n",
       "      <td>191792.06</td>\n",
       "    </tr>\n",
       "    <tr>\n",
       "      <th>2</th>\n",
       "      <td>153441.51</td>\n",
       "      <td>101145.55</td>\n",
       "      <td>407934.54</td>\n",
       "      <td>Florida</td>\n",
       "      <td>191050.39</td>\n",
       "    </tr>\n",
       "    <tr>\n",
       "      <th>3</th>\n",
       "      <td>144372.41</td>\n",
       "      <td>118671.85</td>\n",
       "      <td>383199.62</td>\n",
       "      <td>New York</td>\n",
       "      <td>182901.99</td>\n",
       "    </tr>\n",
       "    <tr>\n",
       "      <th>4</th>\n",
       "      <td>142107.34</td>\n",
       "      <td>91391.77</td>\n",
       "      <td>366168.42</td>\n",
       "      <td>Florida</td>\n",
       "      <td>166187.94</td>\n",
       "    </tr>\n",
       "  </tbody>\n",
       "</table>\n",
       "</div>"
      ],
      "text/plain": [
       "   R&D Spend  Administration  Marketing Spend       State     Profit\n",
       "0  165349.20       136897.80        471784.10    New York  192261.83\n",
       "1  162597.70       151377.59        443898.53  California  191792.06\n",
       "2  153441.51       101145.55        407934.54     Florida  191050.39\n",
       "3  144372.41       118671.85        383199.62    New York  182901.99\n",
       "4  142107.34        91391.77        366168.42     Florida  166187.94"
      ]
     },
     "execution_count": 50,
     "metadata": {},
     "output_type": "execute_result"
    }
   ],
   "source": [
    "# reprinting data\n",
    "df.head()"
   ]
  },
  {
   "cell_type": "markdown",
   "id": "ae569c4b-75a6-49e5-8ab8-e23cec7f901b",
   "metadata": {},
   "source": [
    "` Rangsang : `"
   ]
  },
  {
   "cell_type": "code",
   "execution_count": 51,
   "id": "74fa895d-7c94-422f-980e-50b019623475",
   "metadata": {},
   "outputs": [],
   "source": [
    "## rangsang :\n",
    "X=df['R&D Spend'].values.reshape(-1,1)\n",
    "y=df['Profit'].values"
   ]
  },
  {
   "cell_type": "code",
   "execution_count": 52,
   "id": "63128c2b-0765-4695-8ce8-415c3a51fd68",
   "metadata": {},
   "outputs": [],
   "source": [
    "from sklearn.linear_model import RANSACRegressor\n",
    "\n",
    "#instanc\n",
    "ransac=RANSACRegressor()"
   ]
  },
  {
   "cell_type": "code",
   "execution_count": 53,
   "id": "69e92c7e-68ef-4f92-8762-d1c18a1003e4",
   "metadata": {},
   "outputs": [
    {
     "data": {
      "text/plain": [
       "RANSACRegressor()"
      ]
     },
     "execution_count": 53,
     "metadata": {},
     "output_type": "execute_result"
    }
   ],
   "source": [
    "ransac.fit(X,y)"
   ]
  },
  {
   "cell_type": "code",
   "execution_count": 54,
   "id": "0aa7b1fd-3c09-488a-8bbc-ca524131a0b9",
   "metadata": {},
   "outputs": [],
   "source": [
    "inlier_mask=ransac.inlier_mask_\n",
    "outlier_mask=np.logical_not(inlier_mask)"
   ]
  },
  {
   "cell_type": "code",
   "execution_count": 55,
   "id": "154e0c20-137c-49d7-adb1-2b4731561c6a",
   "metadata": {},
   "outputs": [],
   "source": [
    "line_X = np.arange(3, 10, 1)\n",
    "line_y_ransac = ransac.predict(line_X.reshape(-1, 1))"
   ]
  },
  {
   "cell_type": "code",
   "execution_count": 56,
   "id": "3e3ece49-a101-42e9-8d6a-e1de27da1e3e",
   "metadata": {},
   "outputs": [
    {
     "data": {
      "image/png": "[encoded data removed]",
      "text/plain": [
       "<Figure size 864x576 with 1 Axes>"
      ]
     },
     "metadata": {},
     "output_type": "display_data"
    }
   ],
   "source": [
    "sns.set(style='darkgrid', context='notebook')\n",
    "plt.figure(figsize=(12,8));\n",
    "plt.scatter(X[inlier_mask], y[inlier_mask], \n",
    "            c='blue', marker='o', label='Inliers')\n",
    "plt.scatter(X[outlier_mask], y[outlier_mask],\n",
    "            c='brown', marker='s', label='Outliers')\n",
    "plt.plot(line_X, line_y_ransac, color='red')\n",
    "plt.xlabel('R&D Spend')\n",
    "plt.ylabel(\"Profit\")\n",
    "plt.legend(loc='upper left')\n",
    "plt.show()"
   ]
  },
  {
   "cell_type": "markdown",
   "id": "4ba66ae1-9889-48f7-8e2e-d0d043897a24",
   "metadata": {},
   "source": [
    "` NOTE : ` Here we can read data as the blue circular dots as the ` inliers ` and red squre dot as the ` outliers `. "
   ]
  },
  {
   "cell_type": "markdown",
   "id": "8c13d9aa-c9d7-435c-a936-cebed9b9e0a7",
   "metadata": {},
   "source": [
    "## Train_Test_split Method:"
   ]
  },
  {
   "cell_type": "markdown",
   "id": "b42c7d40-f542-405e-a286-4d38191a5890",
   "metadata": {},
   "source": [
    "- The train-test split is used to estimate the performance of machine learning algorithms that are applicable for prediction-based Algorithms/Applications."
   ]
  },
  {
   "cell_type": "markdown",
   "id": "0c22631c-2d17-44eb-b1bc-262968dd81ba",
   "metadata": {},
   "source": [
    "- we train the model using the training set and then apply the model to the test set. In this way, we can evaluate the performance of our model."
   ]
  },
  {
   "cell_type": "markdown",
   "id": "cad4b24e-0423-460b-834e-34cec33404f0",
   "metadata": {},
   "source": [
    "` Selection of X and y values. `"
   ]
  },
  {
   "cell_type": "code",
   "execution_count": 120,
   "id": "99299726-3e72-4aa9-996d-0477415d0682",
   "metadata": {},
   "outputs": [],
   "source": [
    "X=df['R&D Spend'].values.reshape(-1,1)\n",
    "y=df['Profit'].values"
   ]
  },
  {
   "cell_type": "code",
   "execution_count": null,
   "id": "e0300b97-24e9-43d0-afea-3ef9d7554088",
   "metadata": {},
   "outputs": [],
   "source": []
  },
  {
   "cell_type": "markdown",
   "id": "0233a7c4-9599-415a-889b-3ef15211fb92",
   "metadata": {},
   "source": [
    "` Residuals Plot: `"
   ]
  },
  {
   "cell_type": "code",
   "execution_count": 57,
   "id": "d9841007-f5c3-4531-990a-2006fb9b106f",
   "metadata": {},
   "outputs": [
    {
     "data": {
      "image/png": "[encoded data removed]",
      "text/plain": [
       "<Figure size 576x396 with 2 Axes>"
      ]
     },
     "metadata": {},
     "output_type": "display_data"
    }
   ],
   "source": [
    "from sklearn.model_selection import train_test_split\n",
    "\n",
    "from yellowbrick.regressor import ResidualsPlot\n",
    "from sklearn.linear_model import LinearRegression\n",
    "model = LinearRegression()\n",
    "plot_visuals =ResidualsPlot(model)\n",
    "X_train, X_test, y_train, y_test = train_test_split(X, y, test_size=0.2, random_state=0)\n",
    "plot_visuals.fit(X_train,y_train)\n",
    "plot_visuals.score(X_test,y_test)\n",
    "\n",
    "plt.legend(loc='upper left')\n",
    "plot_visuals.show();"
   ]
  },
  {
   "cell_type": "markdown",
   "id": "160a8e40-a705-41cf-849c-1e08bc792036",
   "metadata": {},
   "source": [
    "` Normal Distribution: `\n"
   ]
  },
  {
   "cell_type": "markdown",
   "id": "11dbea67-6086-46d4-b5c8-300d8c0c2999",
   "metadata": {},
   "source": [
    "- Normal distribution, also known as the Gaussian distribution.\n",
    "- It is a probability distribution that is symmetric about the mean, showing that data near the mean are more frequent in occurrence than data     far from the mean.\n",
    "- In graph form, normal distribution will appear as a bell curve."
   ]
  },
  {
   "cell_type": "code",
   "execution_count": 58,
   "id": "7facc5b7-8051-4ce6-8c21-5051bbcb8711",
   "metadata": {},
   "outputs": [
    {
     "data": {
      "image/png": "[encoded data removed]",
      "text/plain": [
       "<Figure size 576x396 with 2 Axes>"
      ]
     },
     "metadata": {},
     "output_type": "display_data"
    },
    {
     "data": {
      "text/plain": [
       "<AxesSubplot:title={'center':'Residuals for LinearRegression Model'}, xlabel='Predicted Value', ylabel='Residuals'>"
      ]
     },
     "execution_count": 58,
     "metadata": {},
     "output_type": "execute_result"
    }
   ],
   "source": [
    "plot_visuals=ResidualsPlot(model, hist=False , qqplot=True)\n",
    "plot_visuals.fit(X_train,y_train)\n",
    "plot_visuals.score(X_test,y_test) \n",
    "plot_visuals.show()"
   ]
  },
  {
   "cell_type": "markdown",
   "id": "09efad43-6c75-41a1-b178-c3c6b53a5397",
   "metadata": {},
   "source": [
    "## Homoscedasticity ::"
   ]
  },
  {
   "cell_type": "markdown",
   "id": "51b6dcd5-f43b-4967-b8f7-e65c1bfbd7e0",
   "metadata": {},
   "source": [
    "- In regression analysis , homoscedasticity means a situation in which the variance of the dependent variable is the same for all the data."
   ]
  },
  {
   "cell_type": "code",
   "execution_count": 59,
   "id": "fa4afbba-294f-406b-9995-79bcb57d845b",
   "metadata": {},
   "outputs": [
    {
     "data": {
      "image/png": "[encoded data removed]",
      "text/plain": [
       "<Figure size 576x396 with 2 Axes>"
      ]
     },
     "metadata": {},
     "output_type": "display_data"
    }
   ],
   "source": [
    "from yellowbrick.regressor import ResidualsPlot\n",
    "residuals =ResidualsPlot(model)\n",
    "residuals .fit(X_train,y_train)\n",
    "residuals .score(X_test,y_test)\n",
    "\n",
    "plt.legend(loc='upper left')\n",
    "residuals .show();"
   ]
  },
  {
   "cell_type": "markdown",
   "id": "691821f1-f6ae-4e89-a00f-848a380f6264",
   "metadata": {},
   "source": [
    "` spliting data into train and test format i.e. 80:20: `"
   ]
  },
  {
   "cell_type": "code",
   "execution_count": 61,
   "id": "b45ecb07-e834-4814-9c71-a9077fce0775",
   "metadata": {},
   "outputs": [],
   "source": [
    "X_train, X_test ,  y_train, y_test=train_test_split(X,y,test_size=0.2, random_state=2)\n"
   ]
  },
  {
   "cell_type": "code",
   "execution_count": 62,
   "id": "4bc58518-29b8-4b9c-841e-f7e27cb5098d",
   "metadata": {},
   "outputs": [
    {
     "data": {
      "text/plain": [
       "LinearRegression()"
      ]
     },
     "execution_count": 62,
     "metadata": {},
     "output_type": "execute_result"
    }
   ],
   "source": [
    "## import model:\n",
    "from sklearn.linear_model import LinearRegression\n",
    "## model instantiation:\n",
    "lr = LinearRegression()\n",
    "## fitting the model:\n",
    "lr.fit(X_train ,y_train)"
   ]
  },
  {
   "cell_type": "code",
   "execution_count": 63,
   "id": "6c967c28-285e-41a1-ba76-b7921b72df7f",
   "metadata": {},
   "outputs": [],
   "source": [
    "y_test_pred = lr.predict(X_test)\n",
    "y_train_pred = lr.predict(X_train)"
   ]
  },
  {
   "cell_type": "code",
   "execution_count": 64,
   "id": "8401da34-7d08-4ba0-8100-3ac9016a5ffc",
   "metadata": {},
   "outputs": [
    {
     "data": {
      "text/plain": [
       "Index(['R&D Spend', 'Administration', 'Marketing Spend', 'State', 'Profit'], dtype='object')"
      ]
     },
     "execution_count": 64,
     "metadata": {},
     "output_type": "execute_result"
    }
   ],
   "source": [
    "df.columns"
   ]
  },
  {
   "cell_type": "markdown",
   "id": "e2b4856c-7aec-450a-b374-abdc36fd5f81",
   "metadata": {},
   "source": [
    "## simple linear regression:"
   ]
  },
  {
   "cell_type": "markdown",
   "id": "62031be5-1e57-4531-a4c2-2e74d2196d67",
   "metadata": {},
   "source": [
    "- Simple Linear Regression is a type of Regression algorithms that models the relationship between a dependent variable and a single independent variable.\n",
    "- Linear Regression is the supervised Machine Learning model.\n",
    "- In which the model finds the best fit linear line between the independent and dependent variable i.e it finds the linear relationship between the dependent and independent variable.\n"
   ]
  },
  {
   "cell_type": "markdown",
   "id": "9280109a-7dfb-4885-b149-0eb60a43492d",
   "metadata": {},
   "source": [
    "` Selection of X and y. `"
   ]
  },
  {
   "cell_type": "code",
   "execution_count": 65,
   "id": "c807afbf-e3eb-4185-ae69-532f3129b346",
   "metadata": {},
   "outputs": [],
   "source": [
    "## independant variables:\n",
    "X=df['R&D Spend'].values.reshape(-1,1)"
   ]
  },
  {
   "cell_type": "code",
   "execution_count": 66,
   "id": "27ca2365-9faf-4b8c-b52f-3a853626e8d6",
   "metadata": {},
   "outputs": [],
   "source": [
    "## dependant variable:\n",
    "y=df['Profit'].values"
   ]
  },
  {
   "cell_type": "code",
   "execution_count": 67,
   "id": "d52927e1-6aaa-4ccc-b9d2-56a1076dfa15",
   "metadata": {},
   "outputs": [],
   "source": [
    "## importing model:\n",
    "from sklearn.linear_model import LinearRegression\n",
    "from sklearn.model_selection import train_test_split"
   ]
  },
  {
   "cell_type": "markdown",
   "id": "c1f87a4a-f243-4f9e-961a-a9e34ef95388",
   "metadata": {},
   "source": [
    "` spliting data into train and test. `"
   ]
  },
  {
   "cell_type": "code",
   "execution_count": 68,
   "id": "8d2b4cba-70d1-4c7b-acb7-8dc417ed747c",
   "metadata": {},
   "outputs": [],
   "source": [
    "## spliting data in train test:\n",
    "X_train,X_test,y_train,y_test=train_test_split(X,y,test_size=0.3,random_state=0)"
   ]
  },
  {
   "cell_type": "code",
   "execution_count": 69,
   "id": "553aba6d-49da-45e1-9e1d-9442d2dcdcac",
   "metadata": {},
   "outputs": [],
   "source": [
    "## instantiating model:\n",
    "lr=LinearRegression()"
   ]
  },
  {
   "cell_type": "code",
   "execution_count": 70,
   "id": "ad8c2e28-8fb7-4f1a-90f8-4f7be7a43395",
   "metadata": {},
   "outputs": [
    {
     "data": {
      "text/plain": [
       "LinearRegression()"
      ]
     },
     "execution_count": 70,
     "metadata": {},
     "output_type": "execute_result"
    }
   ],
   "source": [
    "## fitting the model:\n",
    "lr.fit(X_train,y_train)"
   ]
  },
  {
   "cell_type": "code",
   "execution_count": 71,
   "id": "a6790bbf-5aa3-4e66-9287-1c387af3ab18",
   "metadata": {},
   "outputs": [],
   "source": [
    "## predicting for test:\n",
    "y_test_pred=lr.predict(X_test)"
   ]
  },
  {
   "cell_type": "code",
   "execution_count": 72,
   "id": "d60f144e-5bbd-4f0d-93c6-d57407ea4b94",
   "metadata": {},
   "outputs": [],
   "source": [
    "## predicting for train:\n",
    "y_train_pred=lr.predict(X_train)"
   ]
  },
  {
   "cell_type": "code",
   "execution_count": 73,
   "id": "8c4843bb-c38d-470a-b37f-9a0b72b1ab1b",
   "metadata": {},
   "outputs": [],
   "source": [
    "from sklearn.metrics import *"
   ]
  },
  {
   "cell_type": "code",
   "execution_count": 74,
   "id": "8e16c31d-6091-42b5-8eb9-0a8bfb390e9f",
   "metadata": {},
   "outputs": [],
   "source": [
    "#metrix=performance major:"
   ]
  },
  {
   "cell_type": "markdown",
   "id": "216fdaa7-1c87-4f24-98ff-9fc961bae245",
   "metadata": {},
   "source": [
    "### MSE: "
   ]
  },
  {
   "cell_type": "markdown",
   "id": "1d6d9070-d38c-4d2d-94a5-bdea51a979f8",
   "metadata": {},
   "source": [
    "- In statistics, the mean squared error (MSE) measures the average of the squares of the errors that is, the average squared difference between the estimated values and the actual value. "
   ]
  },
  {
   "cell_type": "code",
   "execution_count": 75,
   "id": "09171d75-6e1d-443c-8c85-687e04a2878c",
   "metadata": {},
   "outputs": [
    {
     "name": "stdout",
     "output_type": "stream",
     "text": [
      "mean_squared_error(y_train,y_train_pred) : 96862665.12664771\n",
      "mean_squared_error(y_test,y_test_pred) : 61737390.72238975\n"
     ]
    }
   ],
   "source": [
    "## checking for mean_squared_error value for y_train,y_train_pred :\n",
    "MSE=mean_squared_error(y_train,y_train_pred)\n",
    "print(\"mean_squared_error(y_train,y_train_pred) :\",MSE)\n",
    "\n",
    "MSE=mean_squared_error(y_test,y_test_pred)\n",
    "print(\"mean_squared_error(y_test,y_test_pred) :\",MSE)"
   ]
  },
  {
   "cell_type": "markdown",
   "id": "6f173f37-fd4a-4696-9b8d-43a514fcb965",
   "metadata": {},
   "source": [
    "## R2:"
   ]
  },
  {
   "cell_type": "markdown",
   "id": "7c9d81cf-43bb-46bd-ba9c-93bc787db0f8",
   "metadata": {},
   "source": [
    "- Coefficient of determination also called as R2 score is used to evaluate the performance of a linear regression model."
   ]
  },
  {
   "cell_type": "code",
   "execution_count": 76,
   "id": "5fbeaf77-e34b-4218-a306-c9354183c1e2",
   "metadata": {},
   "outputs": [
    {
     "name": "stdout",
     "output_type": "stream",
     "text": [
      "r2_score(y_train,y_train_pred) 0.9476445670285694\n",
      "r2_score(y_test,y_test_pred) 0.9360398184741837\n"
     ]
    }
   ],
   "source": [
    "## checking for r2 values:\n",
    "from sklearn.metrics import r2_score  \n",
    "R2=r2_score(y_train,y_train_pred)\n",
    "R2=print(\"r2_score(y_train,y_train_pred)\",R2)\n",
    "R2=r2_score(y_test,y_test_pred)\n",
    "R2=print(\"r2_score(y_test,y_test_pred)\",R2)"
   ]
  },
  {
   "cell_type": "markdown",
   "id": "34b7e1ae-00f4-476d-995a-e21437b59bb6",
   "metadata": {},
   "source": [
    "## Conclusion:\n",
    " ** Here we can see the r2_score for train is 0.9490241490616933 and r2_score for test is 0.948985190651634 it means 94.89% of data fit on line**"
   ]
  },
  {
   "cell_type": "markdown",
   "id": "fa95d1cb-961d-4fc6-badc-935f5be9597b",
   "metadata": {},
   "source": [
    "## Cross Validation:"
   ]
  },
  {
   "cell_type": "markdown",
   "id": "73c48098-a1f3-4acb-a8b1-c742aece2a41",
   "metadata": {},
   "source": [
    "- Cross-validation is a resampling method that uses different portions of the data to test and train a model on different iterations."
   ]
  },
  {
   "cell_type": "markdown",
   "id": "843ebf20-7c4a-4603-b837-1020241ea705",
   "metadata": {},
   "source": [
    "` for KFold: `"
   ]
  },
  {
   "cell_type": "code",
   "execution_count": 77,
   "id": "7628ac33-0cb4-45cc-9bfa-8f34a4858be7",
   "metadata": {},
   "outputs": [
    {
     "data": {
      "text/plain": [
       "array([0.87731031, 0.92431596, 0.91974815, 0.82586339, 0.98959604])"
      ]
     },
     "execution_count": 77,
     "metadata": {},
     "output_type": "execute_result"
    }
   ],
   "source": [
    "from sklearn.model_selection import KFold\n",
    "from sklearn.model_selection import cross_val_score\n",
    "lm = LinearRegression()\n",
    "folds = KFold(n_splits = 5, shuffle = True, random_state = 10)\n",
    "scores = cross_val_score(lm, X_train, y_train, scoring='r2', cv=5)\n",
    "scores  "
   ]
  },
  {
   "cell_type": "code",
   "execution_count": 78,
   "id": "b10311ab-874e-45c1-8d75-d32b6f0ea08c",
   "metadata": {},
   "outputs": [
    {
     "name": "stdout",
     "output_type": "stream",
     "text": [
      "accuracy_fold 0.907366771302278\n"
     ]
    }
   ],
   "source": [
    "accuracy_fold=np.mean(abs(scores))\n",
    "print(\"accuracy_fold\",accuracy_fold)"
   ]
  },
  {
   "cell_type": "code",
   "execution_count": 79,
   "id": "e6faf25d-adc1-4daf-b8c1-0be12b07f5c3",
   "metadata": {},
   "outputs": [
    {
     "data": {
      "text/plain": [
       "array([0.83795884, 0.95544751, 0.4690488 , 0.96993327, 0.53933176])"
      ]
     },
     "execution_count": 79,
     "metadata": {},
     "output_type": "execute_result"
    }
   ],
   "source": [
    "from sklearn.model_selection import KFold\n",
    "from sklearn.model_selection import cross_val_score\n",
    "lm = LinearRegression()\n",
    "\n",
    "scores = cross_val_score(lm, X_test, y_test, scoring='r2', cv=5)\n",
    "scores  "
   ]
  },
  {
   "cell_type": "code",
   "execution_count": 80,
   "id": "775b62c5-bff3-4f02-91af-1127688b1b9f",
   "metadata": {},
   "outputs": [
    {
     "name": "stdout",
     "output_type": "stream",
     "text": [
      "accuracy_fold 0.7543440356944296\n"
     ]
    }
   ],
   "source": [
    "accuracy_fold=np.mean(abs(scores))\n",
    "print(\"accuracy_fold\",accuracy_fold)"
   ]
  },
  {
   "cell_type": "markdown",
   "id": "9b2359a7-0026-430e-b859-cfcf4b253367",
   "metadata": {},
   "source": [
    "` for lasso: `"
   ]
  },
  {
   "cell_type": "code",
   "execution_count": 81,
   "id": "3e8b0697-8a6b-414c-abd4-e2fc17475c6a",
   "metadata": {},
   "outputs": [],
   "source": [
    "## importing model:\n",
    "from sklearn import linear_model"
   ]
  },
  {
   "cell_type": "code",
   "execution_count": 82,
   "id": "b62d69c4-308c-4926-a096-a32e48113632",
   "metadata": {},
   "outputs": [
    {
     "name": "stdout",
     "output_type": "stream",
     "text": [
      "Lasso Regularization Method\n",
      "lasso_train_score\n",
      "0.9476445670285694 \n",
      "lasso_test_score\n",
      " 0.9360398184951262 \n"
     ]
    }
   ],
   "source": [
    "\n",
    "l1=linear_model.Lasso(alpha=1.0,max_iter=200,tol=0.1)\n",
    "l1.fit(X_train,y_train)\n",
    "\n",
    "test_score=l1.score(X_test,y_test)\n",
    "train_score=l1.score(X_train,y_train)\n",
    "\n",
    "print(\"Lasso Regularization Method\")\n",
    "\n",
    "print(\"lasso_train_score\\n{} \".format(train_score))\n",
    "print(\"lasso_test_score\\n {} \".format(test_score))"
   ]
  },
  {
   "cell_type": "markdown",
   "id": "b0c7151d-1284-400e-b861-e89d108362a7",
   "metadata": {},
   "source": [
    "` CV for lasso:- `"
   ]
  },
  {
   "cell_type": "code",
   "execution_count": 83,
   "id": "5e266752-4954-43f1-94fa-827e6cca011a",
   "metadata": {},
   "outputs": [
    {
     "name": "stdout",
     "output_type": "stream",
     "text": [
      "Train_score \n",
      ": [0.87731031 0.92431596 0.91974815 0.8258634  0.98959604]\n",
      "accuracy_fold_train \n",
      ": 0.9073667713852241\n",
      "Test_score \n",
      ": [0.87731031 0.92431596 0.91974815 0.8258634  0.98959604]\n",
      "accuracy_fold_test \n",
      " : 0.7543440361483738\n"
     ]
    }
   ],
   "source": [
    "from sklearn.model_selection import KFold\n",
    "from sklearn.model_selection import cross_val_score\n",
    "\n",
    "fold=KFold(n_splits=5,shuffle=True, random_state=2)\n",
    "train_scores=cross_val_score(l1,X_train,y_train,scoring='r2',cv=5)\n",
    "print(\"Train_score \\n:\",train_scores )\n",
    "\n",
    "accuracy_fold_train=np.mean(abs(train_scores))\n",
    "print(\"accuracy_fold_train \\n:\",accuracy_fold_train)\n",
    "\n",
    "test_scores=cross_val_score(l1,X_test,y_test,scoring='r2',cv=5)\n",
    "print(\"Test_score \\n:\",train_scores )\n",
    "\n",
    "\n",
    "accuracy_fold_test=np.mean(abs(test_scores))\n",
    "print(\"accuracy_fold_test \\n :\",accuracy_fold_test)"
   ]
  },
  {
   "cell_type": "code",
   "execution_count": 84,
   "id": "532baabc-4543-4431-8dda-47d975e57f3a",
   "metadata": {},
   "outputs": [
    {
     "name": "stdout",
     "output_type": "stream",
     "text": [
      "Scores =  [-1.81919583e+08 -6.47958144e+07 -2.28487794e+08 -7.52040824e+07\n",
      " -3.67306601e+07]\n",
      "MSE =  117427586.78238022\n"
     ]
    }
   ],
   "source": [
    "scores = cross_val_score(lm, X_train, y_train, scoring='neg_mean_squared_error', cv=5)\n",
    "print('Scores = ',scores)\n",
    "accuracy_fold=np.mean(abs(scores))\n",
    "print('MSE = ',accuracy_fold)"
   ]
  },
  {
   "cell_type": "markdown",
   "id": "6fc0cdb1-9582-4f6f-a009-4a6c91c31eb2",
   "metadata": {},
   "source": [
    "` For Ridge: `"
   ]
  },
  {
   "cell_type": "code",
   "execution_count": 85,
   "id": "b23c0b15-87d1-48b8-8d1c-64fb38e08d4a",
   "metadata": {},
   "outputs": [
    {
     "name": "stdout",
     "output_type": "stream",
     "text": [
      "Ridge Regularization Methiod\n",
      "Ridge_train_score\n",
      "0.9476445670285694 \n",
      "Ridge_test_score\n",
      " 0.9360398184998597 \n"
     ]
    }
   ],
   "source": [
    "from sklearn.linear_model import Ridge\n",
    "l2=Ridge(alpha=50,max_iter=200,tol=0.3)\n",
    "l2.fit(X_train,y_train)\n",
    "\n",
    "test_score=l2.score(X_test,y_test)\n",
    "train_score=l2.score(X_train,y_train)\n",
    "\n",
    "print(\"Ridge Regularization Methiod\")\n",
    "\n",
    "print(\"Ridge_train_score\\n{} \".format(train_score))\n",
    "print(\"Ridge_test_score\\n {} \".format(test_score))"
   ]
  },
  {
   "cell_type": "markdown",
   "id": "43547d08-3d54-4152-87c3-e340b144c6eb",
   "metadata": {},
   "source": [
    "` CV for Ridge:- ` "
   ]
  },
  {
   "cell_type": "code",
   "execution_count": 86,
   "id": "c60377bb-71b1-4c0b-b0fa-d61a7c9b3b62",
   "metadata": {},
   "outputs": [
    {
     "name": "stdout",
     "output_type": "stream",
     "text": [
      "Train_score \n",
      ": [0.98443882 0.93699988 0.93019195 0.83124428 0.91644702]\n",
      "accuracy_fold_train_R \n",
      ": 0.9073667713852241\n",
      "Test_score \n",
      ": [0.94459253 0.97640312 0.92150781 0.84348359 0.78579045]\n",
      "accuracy_fold_test_R \n",
      " : 0.7543440361483738\n"
     ]
    }
   ],
   "source": [
    "from sklearn.model_selection import KFold\n",
    "from sklearn.model_selection import cross_val_score\n",
    "\n",
    "fold=KFold(n_splits=5,shuffle=True, random_state=2)\n",
    "train_scores=cross_val_score(l2,X_train,y_train,scoring='r2',cv=fold)\n",
    "print(\"Train_score \\n:\",train_scores )\n",
    "\n",
    "accuracy_fold_train_R=np.mean(abs(train_scores))\n",
    "print(\"accuracy_fold_train_R \\n:\",accuracy_fold_train)\n",
    "\n",
    "test_scores=cross_val_score(l2,X_test,y_test,scoring='r2',cv=fold)\n",
    "print(\"Test_score \\n:\",test_scores )\n",
    "\n",
    "\n",
    "accuracy_fold_test_R=np.mean(abs(test_scores))\n",
    "print(\"accuracy_fold_test_R \\n :\",accuracy_fold_test)"
   ]
  },
  {
   "cell_type": "markdown",
   "id": "def6de29-0ac4-4326-9dd2-369456d56c14",
   "metadata": {},
   "source": [
    "` Elasticnet regularization: `"
   ]
  },
  {
   "cell_type": "code",
   "execution_count": 87,
   "id": "b579c339-e0e3-4e05-aa3e-a1d88da574b3",
   "metadata": {},
   "outputs": [
    {
     "name": "stdout",
     "output_type": "stream",
     "text": [
      "ElasticNet(alpha=25, max_iter=100, tol=0.2)\n",
      "For_train: 0.9476445670285693\n",
      "For_test: 0.9360398189606298\n"
     ]
    }
   ],
   "source": [
    "from sklearn.linear_model import ElasticNet\n",
    "l3= ElasticNet(alpha =25,max_iter=100,tol=0.2)\n",
    "print(l3.fit(X_train, y_train))\n",
    "\n",
    "Els_train_s=l3.score(X_train,y_train)\n",
    "Els_test_s=l3.score(X_test,y_test)\n",
    "print(\"For_train:\",Els_train_s)\n",
    "print(\"For_test:\",Els_test_s)"
   ]
  },
  {
   "cell_type": "markdown",
   "id": "ae7de456-0531-4785-bfac-41ea53f2a9f9",
   "metadata": {},
   "source": [
    "` CV for Elasticnet regularization: `"
   ]
  },
  {
   "cell_type": "code",
   "execution_count": 88,
   "id": "b40337c4-8c69-413b-b95f-87aa82df3753",
   "metadata": {},
   "outputs": [
    {
     "name": "stdout",
     "output_type": "stream",
     "text": [
      "Train_score: [0.98443882 0.93699988 0.93019196 0.83124429 0.91644702]\n",
      "K_fold_Train_score: 0.9198643911395973\n",
      "Test_score: [0.94459252 0.97640313 0.9215078  0.8434836  0.78579046]\n",
      "K_fold_test_score: 0.8943555044357776\n"
     ]
    }
   ],
   "source": [
    "from sklearn.model_selection import KFold\n",
    "from sklearn.model_selection import cross_val_score\n",
    "\n",
    "\n",
    "train_score=cross_val_score(l3,X_train,y_train,cv=fold)\n",
    "print(\"Train_score:\",train_score)\n",
    "\n",
    "Els_cv_train=np.mean(abs(train_score))\n",
    "print(\"K_fold_Train_score:\",Els_cv_train)\n",
    "\n",
    "test_score=cross_val_score(l3,X_test,y_test,cv=fold)\n",
    "print(\"Test_score:\",test_score)\n",
    "\n",
    "Els_cv_test=np.mean(abs(test_score))\n",
    "print(\"K_fold_test_score:\",Els_cv_test)"
   ]
  },
  {
   "cell_type": "markdown",
   "id": "f9a13f78-2e54-4502-9b90-cff9f1c09b81",
   "metadata": {},
   "source": [
    "` Comparison Plot: `"
   ]
  },
  {
   "cell_type": "code",
   "execution_count": 89,
   "id": "8623557a-a8c5-499b-8ac7-4c2172a2e247",
   "metadata": {},
   "outputs": [],
   "source": [
    "#fit model\n",
    "model.fit(X_train,y_train)\n",
    "#get prediction for our model\n",
    "y_test_pred=model.predict(X_test)\n",
    "\n",
    "#get prediction for lasso\n",
    "y_test_pred_lasso=l1.predict(X_test)\n",
    "#get prediction for Ridge\n",
    "y_test_pred_ridg=l2.predict(X_test)\n",
    "#get prediction for els\n",
    "y_test_pred_els=l3.predict(X_test)"
   ]
  },
  {
   "cell_type": "code",
   "execution_count": 90,
   "id": "506cb7ef-9d0d-4b36-87e4-5bd7f4a4f334",
   "metadata": {},
   "outputs": [
    {
     "data": {
      "text/plain": [
       "Text(0.5, 1.0, 'Elasicnet')"
      ]
     },
     "execution_count": 90,
     "metadata": {},
     "output_type": "execute_result"
    },
    {
     "data": {
      "image/png": "[encoded data removed]",
      "text/plain": [
       "<Figure size 1152x576 with 4 Axes>"
      ]
     },
     "metadata": {},
     "output_type": "display_data"
    }
   ],
   "source": [
    "fig, axs = plt.subplots(ncols=2,nrows=2)\n",
    "fig.set_figheight(8)\n",
    "fig.set_figwidth(16)\n",
    "fig.subplots_adjust(hspace=0.35)\n",
    "sns.regplot(x=y_test,y=y_test_pred,ax=axs[0,0],line_kws={\"color\":\"black\"})\n",
    "axs[0, 0].set_title('LineerRegresion')\n",
    "\n",
    "sns.regplot(x=y_test,y=y_test_pred_lasso,color=\"black\",ax=axs[0,1],line_kws={\"color\":\"red\"})\n",
    "axs[0,1].set_title('Lasso')\n",
    "sns.regplot(x=y_test,y=y_test_pred_ridg,color=\"red\",ax=axs[1,0],line_kws={\"color\":\"black\"})\n",
    "axs[1, 0].set_title('Ridge')\n",
    "sns.regplot(x=y_test,y=y_test_pred_els,color=\"purple\",ax=axs[1,1],line_kws={\"color\":\"black\"})\n",
    "axs[1, 1].set_title('Elasicnet')"
   ]
  },
  {
   "cell_type": "markdown",
   "id": "cae2bb6b-50bd-48f9-b201-567393cb337f",
   "metadata": {},
   "source": [
    "## Multiple Regression:"
   ]
  },
  {
   "cell_type": "code",
   "execution_count": 91,
   "id": "8bcf5e36-b720-4c2d-b4d3-b626d8cdae7b",
   "metadata": {},
   "outputs": [
    {
     "data": {
      "text/plain": [
       "Index(['R&D Spend', 'Administration', 'Marketing Spend', 'State', 'Profit'], dtype='object')"
      ]
     },
     "execution_count": 91,
     "metadata": {},
     "output_type": "execute_result"
    }
   ],
   "source": [
    "## printing columns:\n",
    "df.columns"
   ]
  },
  {
   "cell_type": "code",
   "execution_count": 92,
   "id": "1ef07c7e-4c2d-4d4d-85ed-b4d3b4ffce97",
   "metadata": {},
   "outputs": [],
   "source": [
    "df1=df[['R&D Spend', 'Marketing Spend', 'Profit']]"
   ]
  },
  {
   "cell_type": "markdown",
   "id": "67e1b1b7-46dd-4b6f-9473-7faf74c9ab83",
   "metadata": {},
   "source": [
    "` lmplot: `"
   ]
  },
  {
   "cell_type": "code",
   "execution_count": 93,
   "id": "38704bed-0707-4463-a4cc-87fcb6c607f2",
   "metadata": {},
   "outputs": [
    {
     "data": {
      "text/plain": [
       "<seaborn.axisgrid.FacetGrid at 0x1e437d59d90>"
      ]
     },
     "execution_count": 93,
     "metadata": {},
     "output_type": "execute_result"
    },
    {
     "data": {
      "image/png": "[encoded data removed]",
      "text/plain": [
       "<Figure size 360x360 with 1 Axes>"
      ]
     },
     "metadata": {},
     "output_type": "display_data"
    },
    {
     "data": {
      "image/png": "[encoded data removed]",
      "text/plain": [
       "<Figure size 360x360 with 1 Axes>"
      ]
     },
     "metadata": {},
     "output_type": "display_data"
    },
    {
     "data": {
      "image/png": "[encoded data removed]",
      "text/plain": [
       "<Figure size 360x360 with 1 Axes>"
      ]
     },
     "metadata": {},
     "output_type": "display_data"
    }
   ],
   "source": [
    "sns.lmplot(x='R&D Spend',y='Profit',data=df)\n",
    "sns.lmplot(x='Marketing Spend',y='Profit',data=df)\n",
    "sns.lmplot(x='Administration',y='Profit',data=df)"
   ]
  },
  {
   "cell_type": "markdown",
   "id": "975d4728-ffa3-4aaf-a29e-6ddbfde3c433",
   "metadata": {},
   "source": [
    "- selection of X & y :- "
   ]
  },
  {
   "cell_type": "code",
   "execution_count": 94,
   "id": "37edfefb-0087-4189-937e-f8e6176dc88b",
   "metadata": {},
   "outputs": [],
   "source": [
    "X=df1.iloc[:,:2]             ## Independant variable\n",
    "y=df1['Profit'].values       ## Dependant variable"
   ]
  },
  {
   "cell_type": "code",
   "execution_count": 95,
   "id": "f901d9fb-b711-4c3e-8086-6abec6f313d7",
   "metadata": {},
   "outputs": [
    {
     "data": {
      "text/html": [
       "<div>\n",
       "<style scoped>\n",
       "    .dataframe tbody tr th:only-of-type {\n",
       "        vertical-align: middle;\n",
       "    }\n",
       "\n",
       "    .dataframe tbody tr th {\n",
       "        vertical-align: top;\n",
       "    }\n",
       "\n",
       "    .dataframe thead th {\n",
       "        text-align: right;\n",
       "    }\n",
       "</style>\n",
       "<table border=\"1\" class=\"dataframe\">\n",
       "  <thead>\n",
       "    <tr style=\"text-align: right;\">\n",
       "      <th></th>\n",
       "      <th>R&amp;D Spend</th>\n",
       "      <th>Marketing Spend</th>\n",
       "    </tr>\n",
       "  </thead>\n",
       "  <tbody>\n",
       "    <tr>\n",
       "      <th>0</th>\n",
       "      <td>165349.2</td>\n",
       "      <td>471784.10</td>\n",
       "    </tr>\n",
       "    <tr>\n",
       "      <th>1</th>\n",
       "      <td>162597.7</td>\n",
       "      <td>443898.53</td>\n",
       "    </tr>\n",
       "  </tbody>\n",
       "</table>\n",
       "</div>"
      ],
      "text/plain": [
       "   R&D Spend  Marketing Spend\n",
       "0   165349.2        471784.10\n",
       "1   162597.7        443898.53"
      ]
     },
     "execution_count": 95,
     "metadata": {},
     "output_type": "execute_result"
    }
   ],
   "source": [
    "df1.iloc[:2,:2]"
   ]
  },
  {
   "cell_type": "code",
   "execution_count": 96,
   "id": "cd4432ec-4363-4b81-940a-85da209364f4",
   "metadata": {},
   "outputs": [
    {
     "data": {
      "text/plain": [
       "array([192261.83, 191792.06, 191050.39, 182901.99, 166187.94, 156991.12,\n",
       "       156122.51, 155752.6 , 152211.77, 149759.96, 146121.95, 144259.4 ,\n",
       "       141585.52, 134307.35, 132602.65, 129917.04, 126992.93, 125370.37,\n",
       "       124266.9 , 122776.86, 118474.03, 111313.02, 110352.25, 108733.99,\n",
       "       108552.04, 107404.34, 105733.54, 105008.31, 103282.38, 101004.64,\n",
       "        99937.59,  97483.56,  97427.84,  96778.92,  96712.8 ,  96479.51,\n",
       "        90708.19,  89949.14,  81229.06,  81005.76,  78239.91,  77798.83,\n",
       "        71498.49,  69758.98,  65200.33,  64926.08,  49490.75,  42559.73,\n",
       "        35673.41,  14681.4 ])"
      ]
     },
     "execution_count": 96,
     "metadata": {},
     "output_type": "execute_result"
    }
   ],
   "source": [
    "df1['Profit'].values"
   ]
  },
  {
   "cell_type": "markdown",
   "id": "f63b81be-83bf-4f99-b8e5-3d58a9407cf8",
   "metadata": {},
   "source": [
    "- Spliting data into train and test format:- "
   ]
  },
  {
   "cell_type": "code",
   "execution_count": 97,
   "id": "101e6bd5-5d33-4259-8c7e-defc1a6da159",
   "metadata": {},
   "outputs": [
    {
     "name": "stdout",
     "output_type": "stream",
     "text": [
      "X_train:     R&D Spend  Marketing Spend\n",
      "33   55493.95        214634.81\n",
      "35   46014.02        205517.64\n",
      "26   75328.87        134050.07\n",
      "34   46426.07        210797.67\n",
      "18   91749.16        294919.57\n",
      "X_test:     R&D Spend  Marketing Spend\n",
      "28   66051.52        118148.20\n",
      "11  100671.96        249744.55\n",
      "10  101913.08        229160.95\n",
      "41   27892.92        164470.71\n",
      "2   153441.51        407934.54\n",
      "y_train: [ 96778.92  96479.51 105733.54  96712.8  124266.9 ]\n",
      "y_test: [103282.38 144259.4  146121.95  77798.83 191050.39]\n"
     ]
    }
   ],
   "source": [
    "from sklearn.model_selection import train_test_split\n",
    "\n",
    "X_train , X_test , y_train ,y_test =train_test_split(X,y ,test_size=0.2 ,random_state=0)\n",
    "print(\"X_train:\",X_train[:5])\n",
    "print(\"X_test:\",X_test[:5])\n",
    "print(\"y_train:\",y_train[:5])\n",
    "print(\"y_test:\",y_test[:5])"
   ]
  },
  {
   "cell_type": "code",
   "execution_count": 98,
   "id": "f896a144-6f4f-4301-a539-5fcf3df9e281",
   "metadata": {},
   "outputs": [],
   "source": [
    "from sklearn.linear_model  import LinearRegression\n",
    "#instantiate the model\n",
    "model=LinearRegression()"
   ]
  },
  {
   "cell_type": "code",
   "execution_count": 99,
   "id": "907ebfad-f77e-424f-96d4-156ae1d1d8b0",
   "metadata": {},
   "outputs": [
    {
     "data": {
      "text/plain": [
       "LinearRegression()"
      ]
     },
     "execution_count": 99,
     "metadata": {},
     "output_type": "execute_result"
    }
   ],
   "source": [
    "### fiting model X_train,y_train: \n",
    "model.fit(X_train,y_train)"
   ]
  },
  {
   "cell_type": "code",
   "execution_count": 100,
   "id": "ad190809-b654-453e-90fd-2d56a4e9f24e",
   "metadata": {},
   "outputs": [],
   "source": [
    "## prediction for X_train and y_train:\n",
    "y_train_pred=model.predict(X_train)\n",
    "y_test_pred=model.predict(X_test)"
   ]
  },
  {
   "cell_type": "code",
   "execution_count": 101,
   "id": "996bfd05-5e96-4bf2-a56f-2f8264a468aa",
   "metadata": {},
   "outputs": [
    {
     "name": "stdout",
     "output_type": "stream",
     "text": [
      "The r2_score for train : 0.9496654854268443\n",
      "The r2_score for test : 0.9474386447268488\n"
     ]
    }
   ],
   "source": [
    "## printing r2 values for y_train and y_test:\n",
    "from sklearn.metrics import *\n",
    "\n",
    "print(\"The r2_score for train :\",r2_score(y_train,y_train_pred))\n",
    "      \n",
    "print(\"The r2_score for test :\",r2_score(y_test,y_test_pred))"
   ]
  },
  {
   "cell_type": "markdown",
   "id": "aa5ad9ce-8773-4e77-b855-64bccf80f531",
   "metadata": {},
   "source": [
    "- cross validation:"
   ]
  },
  {
   "cell_type": "code",
   "execution_count": 102,
   "id": "4ec9310c-bdcc-4e57-a578-8443964ff7a4",
   "metadata": {},
   "outputs": [
    {
     "data": {
      "text/plain": [
       "array([0.87531407, 0.95193506, 0.95330354, 0.95386187, 0.89457502])"
      ]
     },
     "execution_count": 102,
     "metadata": {},
     "output_type": "execute_result"
    }
   ],
   "source": [
    "lm=LinearRegression()\n",
    "fold=KFold(n_splits=5,shuffle=True, random_state=25)\n",
    "scores=cross_val_score(lm,X_train,y_train,scoring='r2',cv=fold)\n",
    "scores"
   ]
  },
  {
   "cell_type": "code",
   "execution_count": 103,
   "id": "e91a75c1-af3c-49a7-ac4f-5116c84c7b9e",
   "metadata": {},
   "outputs": [
    {
     "name": "stdout",
     "output_type": "stream",
     "text": [
      "accuracy_fold 0.9257979131153522\n"
     ]
    }
   ],
   "source": [
    "accuracy_fold=np.mean(abs(scores))\n",
    "print(\"accuracy_fold\",accuracy_fold)"
   ]
  },
  {
   "cell_type": "code",
   "execution_count": 104,
   "id": "f3ac58f9-55bd-4ce4-a760-4938ddc3c872",
   "metadata": {},
   "outputs": [
    {
     "data": {
      "text/plain": [
       "array([0.63883747, 0.91679417, 0.90713166, 0.89935871, 0.94159279])"
      ]
     },
     "execution_count": 104,
     "metadata": {},
     "output_type": "execute_result"
    }
   ],
   "source": [
    "scores=cross_val_score(lm,X_test,y_test,scoring='r2',cv=fold)\n",
    "scores"
   ]
  },
  {
   "cell_type": "code",
   "execution_count": 105,
   "id": "cb8b386f-aa68-4ae8-9234-b530e9db102b",
   "metadata": {},
   "outputs": [
    {
     "name": "stdout",
     "output_type": "stream",
     "text": [
      "accuracy_fold 0.8607429598862175\n"
     ]
    }
   ],
   "source": [
    "accuracy_fold=np.mean(abs(scores))\n",
    "print(\"accuracy_fold\",accuracy_fold)"
   ]
  },
  {
   "cell_type": "markdown",
   "id": "73b8bb6a-f26c-404c-82a1-9d243f995859",
   "metadata": {},
   "source": [
    "- Lasso Regularization:- "
   ]
  },
  {
   "cell_type": "code",
   "execution_count": 106,
   "id": "e0d890a2-eda5-4385-a156-0b333d5fa3ef",
   "metadata": {},
   "outputs": [
    {
     "data": {
      "text/plain": [
       "Lasso(alpha=50, max_iter=200, tol=0.1)"
      ]
     },
     "execution_count": 106,
     "metadata": {},
     "output_type": "execute_result"
    }
   ],
   "source": [
    "from sklearn import linear_model\n",
    "\n",
    "l1=linear_model.Lasso(alpha=50,max_iter=200,tol=0.1)\n",
    "l1.fit(X_train,y_train)"
   ]
  },
  {
   "cell_type": "code",
   "execution_count": 107,
   "id": "155b29d0-22a7-4dbd-8b40-066be9ef7359",
   "metadata": {},
   "outputs": [
    {
     "name": "stdout",
     "output_type": "stream",
     "text": [
      "score_train 0.9489900188911891\n"
     ]
    }
   ],
   "source": [
    "score_train=l1.score(X_train,y_train)\n",
    "print(\"score_train\",score_train)"
   ]
  },
  {
   "cell_type": "code",
   "execution_count": 108,
   "id": "abb787aa-20cf-4c04-b44e-be2cad162f15",
   "metadata": {},
   "outputs": [
    {
     "name": "stdout",
     "output_type": "stream",
     "text": [
      "score_test 0.9486773788401999\n"
     ]
    }
   ],
   "source": [
    "score_test=l1.score(X_test,y_test)\n",
    "print(\"score_test\",score_test)"
   ]
  },
  {
   "cell_type": "code",
   "execution_count": 109,
   "id": "35c57c8b-93bb-4777-85a2-c6ef15299d39",
   "metadata": {},
   "outputs": [
    {
     "data": {
      "text/plain": [
       "array([0.86257403, 0.94946014, 0.95185943, 0.9514304 , 0.89858214])"
      ]
     },
     "execution_count": 109,
     "metadata": {},
     "output_type": "execute_result"
    }
   ],
   "source": [
    "lm=LinearRegression()\n",
    "fold=KFold(n_splits=5,shuffle=True, random_state=25)\n",
    "scores=cross_val_score(l1,X_train,y_train,scoring='r2',cv=fold)\n",
    "scores"
   ]
  },
  {
   "cell_type": "code",
   "execution_count": 110,
   "id": "0bba52a8-e73f-4857-8e9c-b926200c0bb9",
   "metadata": {},
   "outputs": [
    {
     "name": "stdout",
     "output_type": "stream",
     "text": [
      "accuracy_fold 0.9227812279910301\n"
     ]
    }
   ],
   "source": [
    "accuracy_fold=np.mean(abs(scores))\n",
    "print(\"accuracy_fold\",accuracy_fold)"
   ]
  },
  {
   "cell_type": "markdown",
   "id": "4a1f963f-5bbf-4389-83c3-412465c7f27d",
   "metadata": {},
   "source": [
    "` CV for Lasso Regression: `"
   ]
  },
  {
   "cell_type": "code",
   "execution_count": 111,
   "id": "05a17012-66b1-4560-9c6a-2e65b73ffc72",
   "metadata": {},
   "outputs": [
    {
     "name": "stdout",
     "output_type": "stream",
     "text": [
      "Train_score \n",
      ": [0.87531407 0.95193506 0.95330354 0.95386187 0.89457502]\n",
      "accuracy_fold_train_Lr \n",
      ": 0.925797913155144\n",
      "Test_score \n",
      ": [0.63883746 0.91679417 0.90713166 0.89935872 0.94159279]\n",
      "accuracy_fold_test_Lr \n",
      " : 0.8607429573110401\n"
     ]
    }
   ],
   "source": [
    "from sklearn.model_selection import KFold\n",
    "from sklearn.model_selection import cross_val_score\n",
    "\n",
    "fold=KFold(n_splits=5,shuffle=True, random_state=25)\n",
    "train_scores=cross_val_score(l2,X_train,y_train,scoring='r2',cv=fold)\n",
    "print(\"Train_score \\n:\",train_scores )\n",
    "\n",
    "accuracy_fold_train_Lr=np.mean(abs(train_scores))\n",
    "print(\"accuracy_fold_train_Lr \\n:\",accuracy_fold_train_Lr)\n",
    "\n",
    "test_scores=cross_val_score(l2,X_test,y_test,scoring='r2',cv=fold)\n",
    "print(\"Test_score \\n:\",test_scores )\n",
    "\n",
    "\n",
    "accuracy_fold_test_Lr=np.mean(abs(test_scores))\n",
    "print(\"accuracy_fold_test_Lr \\n :\",accuracy_fold_test_Lr)"
   ]
  },
  {
   "cell_type": "markdown",
   "id": "18d4f639-bcbe-4ac6-b570-11a8fa5245e6",
   "metadata": {},
   "source": [
    "` Ridge regularization:- `"
   ]
  },
  {
   "cell_type": "code",
   "execution_count": 112,
   "id": "6f367221-5b10-4be0-9916-2efe8f96d1d4",
   "metadata": {},
   "outputs": [
    {
     "name": "stdout",
     "output_type": "stream",
     "text": [
      "Ridge Regularization Methiod\n",
      "Ridge_train_score\n",
      "0.9496654854268443 \n",
      "Ridge_test_score\n",
      " 0.9474386446700032 \n"
     ]
    }
   ],
   "source": [
    "from sklearn.linear_model import Ridge\n",
    "l2=Ridge(alpha=50,max_iter=200,tol=0.3)\n",
    "l2.fit(X_train,y_train)\n",
    "\n",
    "test_score=l2.score(X_test,y_test)\n",
    "train_score=l2.score(X_train,y_train)\n",
    "\n",
    "print(\"Ridge Regularization Methiod\")\n",
    "\n",
    "print(\"Ridge_train_score\\n{} \".format(train_score))\n",
    "print(\"Ridge_test_score\\n {} \".format(test_score))"
   ]
  },
  {
   "cell_type": "markdown",
   "id": "6f63016a-78b8-44b0-9b44-ad55a890b4b2",
   "metadata": {},
   "source": [
    "` CV for Ridge regularization:- `"
   ]
  },
  {
   "cell_type": "code",
   "execution_count": 113,
   "id": "3c81daa5-ecd6-4323-8fa3-273e5e18d706",
   "metadata": {},
   "outputs": [
    {
     "name": "stdout",
     "output_type": "stream",
     "text": [
      "Train_score \n",
      ": [0.87531407 0.95193506 0.95330354 0.95386187 0.89457502]\n",
      "  accuracy_fold_train \n",
      ": 0.925797913155144\n",
      "Test_score \n",
      ": [0.63883746 0.91679417 0.90713166 0.89935872 0.94159279]\n",
      "accuracy_fold_test \n",
      " : 0.8607429573110401\n"
     ]
    }
   ],
   "source": [
    "from sklearn.model_selection import KFold\n",
    "from sklearn.model_selection import cross_val_score\n",
    "\n",
    "fold=KFold(n_splits=5,shuffle=True, random_state=25)\n",
    "train_scores=cross_val_score(l2,X_train,y_train,scoring='r2',cv=fold)\n",
    "print(\"Train_score \\n:\",train_scores )\n",
    "\n",
    "accuracy_fold_train=np.mean(abs(train_scores))\n",
    "print(\"  accuracy_fold_train \\n:\",accuracy_fold_train)\n",
    "\n",
    "test_scores=cross_val_score(l2,X_test,y_test,scoring='r2',cv=fold)\n",
    "print(\"Test_score \\n:\",test_scores )\n",
    "\n",
    "\n",
    "accuracy_fold_test=np.mean(abs(test_scores))\n",
    "print(\"accuracy_fold_test \\n :\",accuracy_fold_test)"
   ]
  },
  {
   "cell_type": "markdown",
   "id": "174850ae-698d-423e-8e53-c5530b24672f",
   "metadata": {},
   "source": [
    "` Elasticnet regularization:- `"
   ]
  },
  {
   "cell_type": "code",
   "execution_count": 114,
   "id": "5fbb01a3-8a5f-47ef-9bf2-33278cf0592c",
   "metadata": {},
   "outputs": [
    {
     "name": "stdout",
     "output_type": "stream",
     "text": [
      "ElasticNet(alpha=50, max_iter=100, tol=0.1)\n",
      "For_train: 0.9489900188961935\n",
      "For_test: 0.9486773788129892\n"
     ]
    }
   ],
   "source": [
    "from sklearn.linear_model import ElasticNet\n",
    "l3= ElasticNet(alpha =50,max_iter=100,tol=0.1)\n",
    "print(l3.fit(X_train, y_train))\n",
    "\n",
    "Els_train_s=l3.score(X_train,y_train)\n",
    "Els_test_s=l3.score(X_test,y_test)\n",
    "print(\"For_train:\",Els_train_s)\n",
    "print(\"For_test:\",Els_test_s)"
   ]
  },
  {
   "cell_type": "markdown",
   "id": "4b114957-f673-4b89-ae9b-59754718e480",
   "metadata": {},
   "source": [
    "` CV for Elasticnet regularization:- `"
   ]
  },
  {
   "cell_type": "code",
   "execution_count": 115,
   "id": "0b794bdc-ac02-44eb-aa9b-fa1a79da364d",
   "metadata": {},
   "outputs": [
    {
     "name": "stdout",
     "output_type": "stream",
     "text": [
      "Train_score: [0.86257403 0.94946014 0.95185943 0.95143039 0.89858214]\n",
      "K_fold_Train_score: 0.9227812277518748\n",
      "Test_score: [0.74022496 0.92416669 0.9070909  0.90824799 0.94309925]\n",
      "K_fold_test_score: 0.884565958499142\n"
     ]
    }
   ],
   "source": [
    "from sklearn.model_selection import KFold\n",
    "from sklearn.model_selection import cross_val_score\n",
    "\n",
    "\n",
    "train_score=cross_val_score(l3,X_train,y_train,cv=fold)\n",
    "print(\"Train_score:\",train_score)\n",
    "\n",
    "Els_cv_train=np.mean(abs(train_score))\n",
    "print(\"K_fold_Train_score:\",Els_cv_train)\n",
    "\n",
    "test_score=cross_val_score(l3,X_test,y_test,cv=fold)\n",
    "print(\"Test_score:\",test_score)\n",
    "\n",
    "Els_cv_test=np.mean(abs(test_score))\n",
    "print(\"K_fold_test_score:\",Els_cv_test)"
   ]
  },
  {
   "cell_type": "markdown",
   "id": "68245810-e95f-4f20-9daa-b6ac9af158a7",
   "metadata": {},
   "source": [
    "` Comparison Plot: `"
   ]
  },
  {
   "cell_type": "code",
   "execution_count": 116,
   "id": "b5b10449-8465-47be-a7e0-09a50c15b86c",
   "metadata": {},
   "outputs": [],
   "source": [
    "#fit model\n",
    "model.fit(X_train,y_train)\n",
    "#get prediction for our model\n",
    "y_test_pred=model.predict(X_test)\n",
    "\n",
    "#get prediction for lasso\n",
    "y_test_pred_lasso=l1.predict(X_test)\n",
    "#get prediction for Ridge\n",
    "y_test_pred_ridg=l2.predict(X_test)\n",
    "#get prediction for els\n",
    "y_test_pred_els=l3.predict(X_test)"
   ]
  },
  {
   "cell_type": "code",
   "execution_count": 117,
   "id": "cd4763f8-a04c-4022-b05c-f21b7ee36a44",
   "metadata": {},
   "outputs": [
    {
     "data": {
      "text/plain": [
       "Text(0.5, 1.0, 'Elasicnet')"
      ]
     },
     "execution_count": 117,
     "metadata": {},
     "output_type": "execute_result"
    },
    {
     "data": {
      "image/png": "[encoded data removed]",
      "text/plain": [
       "<Figure size 1152x576 with 4 Axes>"
      ]
     },
     "metadata": {},
     "output_type": "display_data"
    }
   ],
   "source": [
    "fig, axs = plt.subplots(ncols=2,nrows=2)\n",
    "fig.set_figheight(8)\n",
    "fig.set_figwidth(16)\n",
    "fig.subplots_adjust(hspace=0.35)\n",
    "sns.regplot(x=y_test,y=y_test_pred,ax=axs[0,0],line_kws={\"color\":\"black\"})\n",
    "axs[0, 0].set_title('LineerRegresion')\n",
    "\n",
    "sns.regplot(x=y_test,y=y_test_pred_lasso,color=\"black\",ax=axs[0,1],line_kws={\"color\":\"red\"})\n",
    "axs[0,1].set_title('Lasso')\n",
    "sns.regplot(x=y_test,y=y_test_pred_ridg,color=\"red\",ax=axs[1,0],line_kws={\"color\":\"black\"})\n",
    "axs[1, 0].set_title('Ridge')\n",
    "sns.regplot(x=y_test,y=y_test_pred_els,color=\"purple\",ax=axs[1,1],line_kws={\"color\":\"black\"})\n",
    "axs[1, 1].set_title('Elasicnet')"
   ]
  },
  {
   "cell_type": "code",
   "execution_count": 118,
   "id": "e594d582-68ff-4d70-bb13-0c538aab8dcf",
   "metadata": {},
   "outputs": [
    {
     "name": "stdout",
     "output_type": "stream",
     "text": [
      "             All Results      \n",
      "--------------------------------------------------\n",
      "Results for simple regression:\n",
      "------------------------------\n",
      "MSE\n",
      "mean_squared_error(y_train,y_train_pred) : 61737390.72238975\n",
      "mean_squared_error(y_test,y_test_pred) : 61737390.72238975\n",
      "R2\n",
      "------------------------------\n",
      "r2_score(y_train,y_train_pred) None\n",
      "r2_score(y_test,y_test_pred) None\n",
      "Cross Validation:\n",
      "------------------------------\n",
      "for KFold:\n",
      "------------------------------\n",
      "accuracy_fold 0.9227812279910301\n",
      "accuracy_fold 0.9227812279910301\n",
      "for Lasso:\n",
      "------------------------------\n",
      "lasso_train_score\n",
      "[0.86257403 0.94946014 0.95185943 0.95143039 0.89858214] \n",
      "lasso_test_score\n",
      " [0.74022496 0.92416669 0.9070909  0.90824799 0.94309925] \n",
      "CV for Lasso:\n",
      "------------------------------\n",
      "accuracy_fold_train_L \n",
      ": 0.925797913155144\n",
      "accuracy_fold_test_L \n",
      " : 0.8607429573110401\n",
      "for Ridge:\n",
      "------------------------------\n",
      "Ridge_train_score\n",
      "[0.86257403 0.94946014 0.95185943 0.95143039 0.89858214] \n",
      "Ridge_test_score\n",
      " [0.74022496 0.92416669 0.9070909  0.90824799 0.94309925] \n",
      "CV for Ridge:\n",
      "------------------------------\n",
      "accuracy_fold_train_R \n",
      ": 0.925797913155144\n",
      "accuracy_fold_test_R \n",
      " : 0.8607429573110401\n",
      "for Elasticnet:\n",
      "------------------------------\n",
      "For_train: 0.9489900188961935\n",
      "For_test: 0.9486773788129892\n",
      "CV for Elasticnet:\n",
      "------------------------------\n",
      "Train_score: [0.86257403 0.94946014 0.95185943 0.95143039 0.89858214]\n",
      "K_fold_test_score: 0.884565958499142\n",
      "--------------------------------------------------\n",
      "Multiple Regression:\n",
      "------------------------------\n",
      "R2 values\n",
      "The r2_score for train : 0.9496654854268443\n",
      "The r2_score for test : 0.9474386447268488\n",
      "cross validation:\n",
      "------------------------------\n",
      "accuracy_fold 0.9227812279910301\n",
      "accuracy_fold 0.9227812279910301\n",
      "Lasso Regularization:-\n",
      "------------------------------\n",
      "score_test 0.9486773788401999\n",
      "score_train 0.9489900188911891\n",
      "CV for Lasso Regularization:-\n",
      "------------------------------\n",
      "Train_score \n",
      ": [0.87531407 0.95193506 0.95330354 0.95386187 0.89457502]\n",
      "Test_score \n",
      ": [0.63883746 0.91679417 0.90713166 0.89935872 0.94159279]\n",
      "accuracy_fold_train_Lr \n",
      ": 0.925797913155144\n",
      "accuracy_fold_test_Lr \n",
      " : 0.8607429573110401\n",
      "Ridge regularization:- \n",
      "------------------------------\n",
      "Ridge_train_score\n",
      "[0.86257403 0.94946014 0.95185943 0.95143039 0.89858214] \n",
      "Ridge_test_score\n",
      " [0.74022496 0.92416669 0.9070909  0.90824799 0.94309925] \n",
      "CV for Ridge regularization:-\n",
      "------------------------------\n",
      "Train_score \n",
      ": [0.87531407 0.95193506 0.95330354 0.95386187 0.89457502]\n",
      "Test_score \n",
      ": [0.63883746 0.91679417 0.90713166 0.89935872 0.94159279]\n",
      "  accuracy_fold_train \n",
      ": 0.925797913155144\n",
      "accuracy_fold_test \n",
      " : 0.8607429573110401\n",
      "Elasticnet regularization: \n",
      "------------------------------\n",
      "For_train: 0.9489900188961935\n",
      "For_test: 0.9486773788129892\n",
      "CV for Elasticnet regularization:-\n",
      "------------------------------\n",
      "Train_score: [0.86257403 0.94946014 0.95185943 0.95143039 0.89858214]\n",
      "Test_score: [0.74022496 0.92416669 0.9070909  0.90824799 0.94309925]\n",
      "K_fold_Train_score: 0.9227812277518748\n",
      "K_fold_test_score: 0.884565958499142\n",
      "--------------------------------------------------\n",
      "          Thank You\n",
      "--------------------------------------------------\n"
     ]
    }
   ],
   "source": [
    "print(\"             All Results      \")\n",
    "print(\"-\"*50)\n",
    "\n",
    "print(\"Results for simple regression:\")\n",
    "print(\"-\"*30)\n",
    "\n",
    "print(\"MSE\")\n",
    "print(\"mean_squared_error(y_train,y_train_pred) :\",MSE)\n",
    "print(\"mean_squared_error(y_test,y_test_pred) :\",MSE)\n",
    "\n",
    "print(\"R2\")\n",
    "print(\"-\"*30)\n",
    "\n",
    "R2=print(\"r2_score(y_train,y_train_pred)\",R2)\n",
    "R2=print(\"r2_score(y_test,y_test_pred)\",R2)\n",
    "\n",
    "print(\"Cross Validation:\")\n",
    "print(\"-\"*30)\n",
    "\n",
    "print(\"for KFold:\")\n",
    "print(\"-\"*30)\n",
    "\n",
    "print(\"accuracy_fold\",accuracy_fold)\n",
    "print(\"accuracy_fold\",accuracy_fold)\n",
    "\n",
    "print(\"for Lasso:\")\n",
    "print(\"-\"*30)\n",
    "\n",
    "print(\"lasso_train_score\\n{} \".format(train_score))\n",
    "print(\"lasso_test_score\\n {} \".format(test_score))\n",
    "\n",
    "print(\"CV for Lasso:\")\n",
    "print(\"-\"*30)\n",
    "\n",
    "print(\"accuracy_fold_train_L \\n:\",accuracy_fold_train)\n",
    "print(\"accuracy_fold_test_L \\n :\",accuracy_fold_test)\n",
    "\n",
    "print(\"for Ridge:\")\n",
    "print(\"-\"*30)\n",
    "\n",
    "print(\"Ridge_train_score\\n{} \".format(train_score))\n",
    "print(\"Ridge_test_score\\n {} \".format(test_score))\n",
    "\n",
    "print(\"CV for Ridge:\")\n",
    "print(\"-\"*30)\n",
    "\n",
    "print(\"accuracy_fold_train_R \\n:\",accuracy_fold_train)\n",
    "print(\"accuracy_fold_test_R \\n :\",accuracy_fold_test)\n",
    "\n",
    "print(\"for Elasticnet:\")\n",
    "print(\"-\"*30)\n",
    "\n",
    "print(\"For_train:\",Els_train_s)\n",
    "print(\"For_test:\",Els_test_s)\n",
    "\n",
    "print(\"CV for Elasticnet:\")\n",
    "print(\"-\"*30)\n",
    "\n",
    "print(\"Train_score:\",train_score)\n",
    "print(\"K_fold_test_score:\",Els_cv_test)\n",
    "print(\"-\"*50)\n",
    "\n",
    "print(\"Multiple Regression:\")\n",
    "print(\"-\"*30)\n",
    "\n",
    "print(\"R2 values\")\n",
    "print(\"The r2_score for train :\",r2_score(y_train,y_train_pred))\n",
    "print(\"The r2_score for test :\",r2_score(y_test,y_test_pred))\n",
    "\n",
    "print(\"cross validation:\")\n",
    "print(\"-\"*30)\n",
    "\n",
    "print(\"accuracy_fold\",accuracy_fold)\n",
    "print(\"accuracy_fold\",accuracy_fold)\n",
    "print(\"Lasso Regularization:-\")\n",
    "print(\"-\"*30)\n",
    "\n",
    "print(\"score_test\",score_test)\n",
    "print(\"score_train\",score_train)\n",
    "\n",
    "print(\"CV for Lasso Regularization:-\")\n",
    "print(\"-\"*30)\n",
    "\n",
    "print(\"Train_score \\n:\",train_scores )\n",
    "print(\"Test_score \\n:\",test_scores )\n",
    "print(\"accuracy_fold_train_Lr \\n:\",accuracy_fold_train_Lr)\n",
    "print(\"accuracy_fold_test_Lr \\n :\",accuracy_fold_test_Lr)\n",
    "\n",
    "print(\"Ridge regularization:- \")\n",
    "print(\"-\"*30)\n",
    "\n",
    "print(\"Ridge_train_score\\n{} \".format(train_score))\n",
    "print(\"Ridge_test_score\\n {} \".format(test_score))\n",
    "\n",
    "print(\"CV for Ridge regularization:-\") \n",
    "print(\"-\"*30)\n",
    "\n",
    "print(\"Train_score \\n:\",train_scores )\n",
    "print(\"Test_score \\n:\",test_scores )\n",
    "print(\"  accuracy_fold_train \\n:\",accuracy_fold_train)\n",
    "print(\"accuracy_fold_test \\n :\",accuracy_fold_test)\n",
    "\n",
    "print(\"Elasticnet regularization: \")\n",
    "print(\"-\"*30)\n",
    "\n",
    "print(\"For_train:\",Els_train_s)\n",
    "print(\"For_test:\",Els_test_s)\n",
    "\n",
    "print(\"CV for Elasticnet regularization:-\")\n",
    "print(\"-\"*30)\n",
    "\n",
    "print(\"Train_score:\",train_score)\n",
    "print(\"Test_score:\",test_score)\n",
    "print(\"K_fold_Train_score:\",Els_cv_train)\n",
    "print(\"K_fold_test_score:\",Els_cv_test)\n",
    "print(\"-\"*50)\n",
    "\n",
    "print(\"          Thank You\")\n",
    "print(\"-\"*50)"
   ]
  },
  {
   "cell_type": "markdown",
   "id": "cbb397bf-bce1-4716-a3c9-1bf6d73b9c14",
   "metadata": {},
   "source": [
    "## RESULTS:\n",
    "\n",
    "` FOR SINGLE: `\n",
    "\n",
    "- We have good results for a single regression.\n",
    "- by using all regularization technique we got the good results.\n",
    "\n",
    "` FOR MULTIPLE REGRESSION: `\n",
    "\n",
    "- We have good results for a multiple regression.\n",
    "- by using all regularization technique we got the good results but the Elasticnet regularization technique gives the best values."
   ]
  },
  {
   "cell_type": "markdown",
   "id": "35cb6766-45a4-4305-b68f-9e4dd315deba",
   "metadata": {},
   "source": [
    "## CONCLUSIONS\n",
    "- In this model we get the good results with the single regression as compaired to multipe regression. because in single regreesion the ` 'R&D spend' ` is good sufficient to explain the effect on the ` 'profit' ` as compaired to multiple regression."
   ]
  },
  {
   "cell_type": "code",
   "execution_count": null,
   "id": "f8119754-b960-4de1-b993-4d2be3413159",
   "metadata": {},
   "outputs": [],
   "source": []
  }
 ],
 "metadata": {
  "kernelspec": {
   "display_name": "Python 3 (ipykernel)",
   "language": "python",
   "name": "python3"
  },
  "language_info": {
   "codemirror_mode": {
    "name": "ipython",
    "version": 3
   },
   "file_extension": ".py",
   "mimetype": "text/x-python",
   "name": "python",
   "nbconvert_exporter": "python",
   "pygments_lexer": "ipython3",
   "version": "3.9.7"
  }
 },
 "nbformat": 4,
 "nbformat_minor": 5
}
